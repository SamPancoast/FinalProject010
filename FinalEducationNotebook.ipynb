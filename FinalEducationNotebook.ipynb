{
 "cells": [
  {
   "cell_type": "markdown",
   "id": "967ca718-d583-4b63-bcb0-72b949990689",
   "metadata": {},
   "source": [
    "Best education metric:\n",
    "\n",
    "To determine the best neighborhood in Pittsburgh, we decided to create a metric to determine which area has the best education. I decided a good measure of effective schooling is seeing which area has the highest rate of residents who graduated high school.\n",
    "\n",
    "Originally we wanted to base it off the effectiveness of schools for younger kids: middle school or elementary school. However, we found it hard to find good data to measure this. I found a dataset that listed the level of education attained by every resident of each area in Pittsburgh over 18 who chose to respond to the survey; this led me to focus on highschool graduation rates, because it is generally considered indicative of the effectiveness of an education from childhood to young-adulthood.\n",
    "\n",
    "This data was from a dataset gained from the 2014 ACS, question 11.\n",
    "\n",
    "The metric for \"best education\" measures what percentage of residents over 18 in each area earned a high school diploma or higher. Whichever area has the highest rate of graduating high school determines that area's score for \"best education\".\n",
    "\n",
    "For each area, I took the total number of residents with a high diploma or higher education and divided that by the total number of residents surveyed to get their score out of 1. I took this percentage and scaled it to make the total possible points for the area 30."
   ]
  },
  {
   "cell_type": "code",
   "execution_count": 9,
   "id": "8119f2f0-556a-4e51-9730-2d6d2ce64d21",
   "metadata": {},
   "outputs": [
    {
     "name": "stdout",
     "output_type": "stream",
     "text": [
      "Requirement already satisfied: pandas in c:\\users\\panco\\anaconda3\\lib\\site-packages (2.2.2)\n",
      "Requirement already satisfied: numpy>=1.26.0 in c:\\users\\panco\\anaconda3\\lib\\site-packages (from pandas) (1.26.4)\n",
      "Requirement already satisfied: python-dateutil>=2.8.2 in c:\\users\\panco\\anaconda3\\lib\\site-packages (from pandas) (2.9.0.post0)\n",
      "Requirement already satisfied: pytz>=2020.1 in c:\\users\\panco\\anaconda3\\lib\\site-packages (from pandas) (2024.1)\n",
      "Requirement already satisfied: tzdata>=2022.7 in c:\\users\\panco\\anaconda3\\lib\\site-packages (from pandas) (2023.3)\n",
      "Requirement already satisfied: six>=1.5 in c:\\users\\panco\\anaconda3\\lib\\site-packages (from python-dateutil>=2.8.2->pandas) (1.16.0)\n",
      "[('North Shore', (58.0, 20.0)), ('South Shore', (72.0, 20.0)), ('Strip District', (81.0, 20.0)), ('West End', (88.0, 20.0)), ('Point Breeze North', (65.0, 19.82973149967256)), ('Point Breeze', (64.0, 19.58727001491795)), ('Squirrel Hill North', (77.0, 19.559519475791774)), ('Squirrel Hill South', (78.0, 19.4679326406306)), ('Shadyside', (69.0, 19.43913320586361)), ('Regent Square', (67.0, 19.43152454780362)), ('Central Business District', (17.0, 19.343474779823858)), ('Chateau', (22.0, nan)), ('Highland Park', (40.0, 19.59349593495935)), ('Mt. Oliver', (55.0, 19.31758530183727)), ('Troy Hill', (85.0, 19.231590181430096)), ('South Side Flats', (73.0, 19.150374125030172)), ('Greenfield', (37.0, 19.089790897908976)), ('Fairywood', (32.0, 19.07654921020656)), ('Esplen', (31.0, 18.97872340425532)), ('Bloomfield', (10.0, 18.958049371497804)), ('East Carnegie', (27.0, 18.925831202046034)), ('Hays', (38.0, 18.844765342960287)), ('Banksville', (6.0, 18.836104513064132)), ('Windgap', (91.0, 18.830409356725145)), ('Duquesne Heights', (25.0, 18.73015873015873)), ('Bon Air', (12.0, 18.689075630252102)), ('Upper Hill', (86.0, 18.623242042931164)), ('Polish Hill', (66.0, 18.562874251497007)), ('South Side Slopes', (74.0, 18.56235372785022)), ('Friendship', (34.0, 18.5348997926745)), ('Stanton Heights', (80.0, 18.506652185718163)), ('Manchester', (49.0, 18.501766784452297)), ('Lower Lawrenceville', (48.0, 18.486096807415034)), ('Mount Washington', (54.0, 18.472243698778414)), ('Allentown', (3.0, 18.46058348851645)), ('North Oakland', (57.0, 18.454204971058903)), ('Perry North', (62.0, 18.442737430167597)), ('Brighton Heights', (13.0, 18.44126925218037)), ('Brookline', (14.0, 18.36028659160696)), ('New Homestead', (56.0, 18.284023668639055)), ('Upper Lawrenceville', (87.0, 18.19526627218935)), ('Lincoln Place', (46.0, 18.17543859649123)), ('South Oakland', (71.0, 18.168789808917197)), ('Beechview', (8.0, 18.117929379499486)), ('Crafton Heights', (23.0, 18.11755361397935)), ('Central Lawrenceville', (18.0, 18.088900718658504)), ('Perry South', (63.0, 18.073118279569893)), ('East Hills', (28.0, 18.06695464362851)), ('Overbrook', (61.0, 18.046875)), ('Allegheny West', (2.0, 18.021201413427562)), ('Central Northside', (19.0, 17.987718469532357)), ('Summer Hill', (82.0, 17.9672131147541)), ('Chartiers City', (21.0, 17.865168539325843)), ('Oakwood', (60.0, 17.839029768467476)), ('Fineview', (33.0, 17.827956989247312)), ('West Oakland', (89.0, 17.82383419689119)), ('St. Clair', (79.0, 17.791411042944784)), ('Morningside', (52.0, 17.726199842643588)), ('Allegheny Center', (1.0, 17.597977243994944)), ('Ridgemont', (68.0, 17.5609756097561)), ('Swisshelm Park', (83.0, 17.48712667353244)), ('Elliott', (30.0, 17.468013468013467)), ('Knoxville', (44.0, 17.45956607495069)), ('Sheraden', (70.0, 17.458596808190304)), ('Westwood', (90.0, 17.439446366782008)), ('Homewood West', (43.0, 17.42138364779874)), ('Central Oakland', (20.0, 17.412935323383085)), ('Garfield', (35.0, 17.38197424892704)), ('Homewood North', (41.0, 17.36338028169014)), ('Arlington', (4.0, 17.356412273800156)), ('East Liberty', (29.0, 17.30740085880273)), ('Spring Hill-City View', (76.0, 17.287925696594428)), ('Lincoln-Lemington-Belmar', (47.0, 17.262222222222224)), ('Carrick', (16.0, 17.259483232545353)), ('Hazelwood', (39.0, 17.203445990722333)), ('Homewood South', (42.0, 16.593103448275862)), ('Bluff', (11.0, 16.556521739130435)), ('Crawford-Roberts', (24.0, 16.493078444297957)), ('California-Kirkbride', (15.0, 16.32075471698113)), ('Larimer', (45.0, 16.295620437956202)), ('East Allegheny', (26.0, 16.256572029442694)), ('Terrace Village', (84.0, 16.233766233766232)), ('Bedford Dwellings', (7.0, 16.23145400593472)), ('Mount Oliver Borough', (53.0, 15.706036745406823)), ('Beltzhoover', (9.0, 15.64959168522643)), ('Middle Hill', (51.0, 15.607115235885537)), ('Spring Garden', (75.0, 14.991596638655462)), ('Marshall-Shadeland', (50.0, 14.757964418700869)), ('Northview Heights', (59.0, 14.482758620689655)), ('Glen Hazel', (36.0, 13.572854291417165)), ('Arlington Heights', (5.0, 5.7142857142857135))]\n"
     ]
    }
   ],
   "source": [
    "!pip install pandas\n",
    "\n",
    "import pandas as panda\n",
    "import math\n",
    "\n",
    "#using pandas to help parce through the data set \n",
    "data = panda.read_csv('EducationalAttainmentData.csv')\n",
    "\n",
    "#goal: read through the respective columns to sum and divide them by the column that has the number of residents surveyed.\n",
    "#specifically, add the columns of those who graduated highschool (or higher education) and divide by the total number of residents surveyed\n",
    "\n",
    "#list of the names of the columns to read through\n",
    "columnsHighSchoolOrMore = [ \n",
    "    'Estimate; Total: - Regular high school diploma',\n",
    "    'Estimate; Total: - GED or alternative credential',\n",
    "    'Estimate; Total: - Some college, less than 1 year',\n",
    "    'Estimate; Total: - Some college, 1 or more years, no degree',\n",
    "    \"Estimate; Total: - Associate's degree\",\n",
    "    \"Estimate; Total: - Bachelor's degree\",\n",
    "    \"Estimate; Total: - Master's degree\",\n",
    "    \"Estimate; Total: - Professional school degree\",\n",
    "    \"Estimate; Total: - Doctorate degree\"\n",
    "]\n",
    "\n",
    "\n",
    "#iterates through the columns in the data set and adds the column if it has the same title as one of those listed above\n",
    "columnsOfGrads = [col for col in columnsHighSchoolOrMore if col in data.columns] #creates list of columns that should be added\n",
    "data['percentageOfHighSchoolGraduates'] = data[columnsOfGrads].sum(axis=1) / data['Estimate; Total:'] \n",
    "# creates a new column in the Dataframe called 'Sum_and_Divide' and sets its rows equal to the respective sums of each valid column, \n",
    "# then divides by the respective total number of citizens \n",
    "\n",
    "#converts new column into a python list\n",
    "percentList = data['percentageOfHighSchoolGraduates'].tolist() #remember that this is [0]-[90], not [1]-[91]\n",
    "\n",
    "\n",
    "#creates a list of doubles to store the index to track which area has what percentage to print out the name of the area later\n",
    "areaAndPercentageList = [(index, value) for index, value in enumerate(percentList)]\n",
    "\n",
    "#Rank the areas from highest to lowest HS graduation rate\n",
    "rankedAreaList = sorted(areaAndPercentageList, key=lambda x: x[1], reverse=True)\n",
    "\n",
    "#print list (for testing)\n",
    "rankedAreaList #id = int + 1; column A = id + 1;\n",
    "#nan means no one replied to the survey in that neighborhood\n",
    "\n",
    "# list of neighborhoods in the dataset\n",
    "# doesn't include any NaN (areas where no one responded) and then converts the rest to Strings \n",
    "listOfNeighborhoods = data['Neighborhood'].dropna().astype(str).tolist()\n",
    "\n",
    "# Create a new list with the 'n' replaced by the corresponding string from the `strings` list\n",
    "#final list to represent each area ranked from best to worst, including the area, id in the dataset, and the score\n",
    "#scaled the scale from 0 to 1 to 0 to 20\n",
    "#converts doubles and ints to floats\n",
    "finalList = []\n",
    "for duplet in rankedAreaList:\n",
    "    k, inner_duplet = duplet  # unpack the outer integer and the inner duplet (which has two elements)\n",
    "\n",
    "    # Ensure that k + 1 is within the bounds of the neighborhood_list\n",
    "    if k < len(strings):\n",
    "        # Get the neighborhood string at index k (adjusted for 0-indexing)\n",
    "        neighborhood_string = listOfNeighborhoods[k]  # k corresponds to the index in 0-based indexing\n",
    "    else:\n",
    "        neighborhood_string = None  # Or set a default value if k+1 is out of bounds\n",
    "\n",
    "    # Check if the inner_duplet is a tuple (int_n, double_value) or a single float value\n",
    "    if isinstance(inner_duplet, tuple):\n",
    "        int_n, double_value = inner_duplet  # unpack the inner duplet into int_n and double_value\n",
    "    else:\n",
    "        # Handle the case where inner_duplet is a single float (or a NaN value)\n",
    "        # If the value is None or NaN, treat it accordingly\n",
    "        if inner_duplet is None or (isinstance(inner_duplet, float) and math.isnan(inner_duplet)):\n",
    "            int_n, double_value = (float('nan'), float('nan'))  # or any default handling for NaN\n",
    "        else:\n",
    "            int_n, double_value = float(inner_duplet), float(inner_duplet)  # Treat as float if no NaN\n",
    "\n",
    "    # Replace the first part of the inner duplet with k+1\n",
    "    new_inner_duplet = (float(k + 1), float(double_value))\n",
    "\n",
    "    # Scale the second value (double_value) from the range [0.0, 1.0] to [0.0, 20.0]\n",
    "    if 0.0 <= double_value <= 1.0:\n",
    "        scaled_value = double_value * 20.0  # Scale from 0.0-1.0 to 0.0-20.0\n",
    "    else:\n",
    "        # If the value is outside the expected range, handle as needed (e.g., set to NaN or keep it unchanged)\n",
    "        scaled_value = double_value  # Keep original if out of bounds (or apply custom handling)\n",
    "\n",
    "    # Replace the second value with the scaled value\n",
    "    new_inner_duplet = (new_inner_duplet[0], scaled_value)\n",
    "\n",
    "    # Append the modified duplet to the result list\n",
    "    finalList.append((neighborhood_string, new_inner_duplet))\n",
    "\n",
    "# Output the modified duplets\n",
    "print(modified_duplets)"
   ]
  },
  {
   "cell_type": "raw",
   "id": "40269226-c861-4db2-854a-9dca9f814dd8",
   "metadata": {},
   "source": [
    "After parsing through the data, I found the 10 best areas according to education are as follows:\n",
    "1 (tie): North Shore, 100% HS grad rate, 20 points\n",
    "2 (tie): South Shore, 100% HS grad rate, 20 points\n",
    "3 (tie): Strip District, 100% HS grad rate, 20 points\n",
    "4 (tie): West End, 100% HS grad rate, 20 points\n",
    "5      : Point Breeze North, 99.14% HS grad rate, 19.82973149967256 points\n",
    "6      : Point Breze, 97.94% HS grad rate, 19.58727001491795 points\n",
    "7      : Squirrel Hill North, 97.80% HS grad rate, 19.559519475791774 points\n",
    "8      : Squirrel Hill South, 97.34% HS grad rate, 19.4679326406306 points\n",
    "9      : Shadyside, 97.20% HS grad rate, 19.43913320586361 points\n",
    "10     : Regent Square, 97.16% HS grad rate, 19.43152454780362 points"
   ]
  },
  {
   "cell_type": "raw",
   "id": "6e36a85e-c444-4fae-b414-49a8a81d87ab",
   "metadata": {},
   "source": [
    "After parsing through the data, I found the 5 worst areas according to education are as follows:\n",
    "\n",
    "1: Arlington Heights, 28.57% HS grad rate, 5.7142857142857135 points\n",
    "2: Glen Hazel, 67.86% HS grad rate, 13.57285429141716 points\n",
    "3: Northview Heights, 72.41% HS grad rate, 14.482758620689655 points\n",
    "4: Marshall-Shadeland, 73.79% HS grad rate, 14.757964418700869 points\n",
    "5: Spring Garden, 75.00% HS grad rate. 14.991596638655462 points\n"
   ]
  },
  {
   "cell_type": "raw",
   "id": "7376efcf-bf80-40ce-8f8b-4d59418f33ab",
   "metadata": {},
   "source": [
    "I sent added the points for each neighborhood to the total metric out of 100 points."
   ]
  },
  {
   "cell_type": "code",
   "execution_count": null,
   "id": "7e73afc3-144d-4721-911b-36ce86e077af",
   "metadata": {},
   "outputs": [],
   "source": []
  }
 ],
 "metadata": {
  "kernelspec": {
   "display_name": "Python 3 (ipykernel)",
   "language": "python",
   "name": "python3"
  },
  "language_info": {
   "codemirror_mode": {
    "name": "ipython",
    "version": 3
   },
   "file_extension": ".py",
   "mimetype": "text/x-python",
   "name": "python",
   "nbconvert_exporter": "python",
   "pygments_lexer": "ipython3",
   "version": "3.12.4"
  }
 },
 "nbformat": 4,
 "nbformat_minor": 5
}
